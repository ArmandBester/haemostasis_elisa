{
 "cells": [
  {
   "cell_type": "code",
   "execution_count": 1,
   "id": "891defc9",
   "metadata": {},
   "outputs": [],
   "source": [
    "import json\n",
    "import string\n",
    "from openpyxl import workbook, load_workbook\n",
    "import numpy as np\n",
    "import pandas as pd\n",
    "import matplotlib.pyplot as plt\n",
    "import seaborn as sns\n",
    "from scipy.optimize import curve_fit\n",
    "from sklearn.metrics import r2_score\n",
    "import plotly.express as px\n",
    "import plotly.graph_objects as go"
   ]
  },
  {
   "cell_type": "code",
   "execution_count": 2,
   "id": "abc2effc",
   "metadata": {},
   "outputs": [
    {
     "data": {
      "text/plain": [
       "[100, 50.0, 25.0, 12.5, 6.25, 3.125, 1.5625, 0]"
      ]
     },
     "execution_count": 2,
     "metadata": {},
     "output_type": "execute_result"
    }
   ],
   "source": [
    "# create a function to generate the percentage ranges\n",
    "\n",
    "def make_ranges_for_std_curve(n):\n",
    "    '''\n",
    "    Takes n as an argument, the number of times 100% is halved.\n",
    "    Returns a list of percentage ranges for the standard curve.\n",
    "    The ranges are in the form of a list of percentages, \n",
    "    starting from 100% and going down to 0% in steps of 50%.\n",
    "\n",
    "    Returns: a list of percentages.\n",
    "    '''\n",
    "    perc = 100\n",
    "    vwf_ref_prec = []\n",
    "    i = n\n",
    "    while i >= 0 :\n",
    "        vwf_ref_prec.append(perc)\n",
    "        perc = perc / 2             # halving the percentage\n",
    "        i-=1                        # decrementing the counter\n",
    "        \n",
    "    vwf_ref_prec.append(0)          # add 0% to the list\n",
    "    return vwf_ref_prec\n",
    "\n",
    "make_ranges_for_std_curve(6)"
   ]
  },
  {
   "cell_type": "code",
   "execution_count": 3,
   "id": "4f3e6007",
   "metadata": {},
   "outputs": [],
   "source": [
    "def get_template_from_config():\n",
    "    with open('config/config.json', 'r') as file:\n",
    "        config = json.load(file)\n",
    "    \n",
    "    return config\n",
    "    "
   ]
  },
  {
   "cell_type": "code",
   "execution_count": 4,
   "id": "c01c363e",
   "metadata": {},
   "outputs": [
    {
     "data": {
      "text/plain": [
       "{'analysis_name_pos': {'col': 1, 'row': 1},\n",
       " 'serial_name_pos': {'col': 1, 'row': 2},\n",
       " 'plates': [{'name': 'Plate1',\n",
       "   'pos': {'col': 1, 'row': 5},\n",
       "   'assay_name_pos': {'col': 1, 'row': 3}},\n",
       "  {'name': 'Plate2',\n",
       "   'pos': {'col': 1, 'row': 26},\n",
       "   'assay_name_pos': {'col': 1, 'row': 24}}]}"
      ]
     },
     "execution_count": 4,
     "metadata": {},
     "output_type": "execute_result"
    }
   ],
   "source": [
    "get_template_from_config()"
   ]
  },
  {
   "cell_type": "code",
   "execution_count": 5,
   "id": "8fbdbede",
   "metadata": {},
   "outputs": [
    {
     "data": {
      "text/html": [
       "<div>\n",
       "<style scoped>\n",
       "    .dataframe tbody tr th:only-of-type {\n",
       "        vertical-align: middle;\n",
       "    }\n",
       "\n",
       "    .dataframe tbody tr th {\n",
       "        vertical-align: top;\n",
       "    }\n",
       "\n",
       "    .dataframe thead th {\n",
       "        text-align: right;\n",
       "    }\n",
       "</style>\n",
       "<table border=\"1\" class=\"dataframe\">\n",
       "  <thead>\n",
       "    <tr style=\"text-align: right;\">\n",
       "      <th></th>\n",
       "      <th>1</th>\n",
       "      <th>2</th>\n",
       "      <th>3</th>\n",
       "      <th>4</th>\n",
       "      <th>5</th>\n",
       "      <th>6</th>\n",
       "      <th>7</th>\n",
       "      <th>8</th>\n",
       "      <th>9</th>\n",
       "      <th>10</th>\n",
       "      <th>11</th>\n",
       "      <th>12</th>\n",
       "      <th>analysis_name</th>\n",
       "      <th>serial_name</th>\n",
       "      <th>assay</th>\n",
       "    </tr>\n",
       "  </thead>\n",
       "  <tbody>\n",
       "    <tr>\n",
       "      <th>4</th>\n",
       "      <td>0.554</td>\n",
       "      <td>0.552</td>\n",
       "      <td>0.491</td>\n",
       "      <td>0.483</td>\n",
       "      <td>0.471</td>\n",
       "      <td>0.576</td>\n",
       "      <td>0.505</td>\n",
       "      <td>0.493</td>\n",
       "      <td>0.331</td>\n",
       "      <td>0.312</td>\n",
       "      <td>0.011</td>\n",
       "      <td>0.010</td>\n",
       "      <td>Date : 02 JUNE 2025</td>\n",
       "      <td>Synergy HT Serial#204811</td>\n",
       "      <td>VWF:AG</td>\n",
       "    </tr>\n",
       "    <tr>\n",
       "      <th>5</th>\n",
       "      <td>0.447</td>\n",
       "      <td>0.444</td>\n",
       "      <td>0.328</td>\n",
       "      <td>0.344</td>\n",
       "      <td>0.338</td>\n",
       "      <td>0.355</td>\n",
       "      <td>0.361</td>\n",
       "      <td>0.341</td>\n",
       "      <td>0.184</td>\n",
       "      <td>0.186</td>\n",
       "      <td>0.002</td>\n",
       "      <td>0.003</td>\n",
       "      <td>Date : 02 JUNE 2025</td>\n",
       "      <td>Synergy HT Serial#204811</td>\n",
       "      <td>VWF:AG</td>\n",
       "    </tr>\n",
       "    <tr>\n",
       "      <th>6</th>\n",
       "      <td>0.325</td>\n",
       "      <td>0.327</td>\n",
       "      <td>0.364</td>\n",
       "      <td>0.364</td>\n",
       "      <td>0.214</td>\n",
       "      <td>0.245</td>\n",
       "      <td>0.348</td>\n",
       "      <td>0.359</td>\n",
       "      <td>0.305</td>\n",
       "      <td>0.356</td>\n",
       "      <td>0.004</td>\n",
       "      <td>0.004</td>\n",
       "      <td>Date : 02 JUNE 2025</td>\n",
       "      <td>Synergy HT Serial#204811</td>\n",
       "      <td>VWF:AG</td>\n",
       "    </tr>\n",
       "    <tr>\n",
       "      <th>7</th>\n",
       "      <td>0.217</td>\n",
       "      <td>0.209</td>\n",
       "      <td>0.235</td>\n",
       "      <td>0.216</td>\n",
       "      <td>0.138</td>\n",
       "      <td>0.141</td>\n",
       "      <td>0.210</td>\n",
       "      <td>0.209</td>\n",
       "      <td>0.217</td>\n",
       "      <td>0.212</td>\n",
       "      <td>0.003</td>\n",
       "      <td>0.004</td>\n",
       "      <td>Date : 02 JUNE 2025</td>\n",
       "      <td>Synergy HT Serial#204811</td>\n",
       "      <td>VWF:AG</td>\n",
       "    </tr>\n",
       "    <tr>\n",
       "      <th>8</th>\n",
       "      <td>0.145</td>\n",
       "      <td>0.128</td>\n",
       "      <td>0.360</td>\n",
       "      <td>0.333</td>\n",
       "      <td>0.220</td>\n",
       "      <td>0.216</td>\n",
       "      <td>0.142</td>\n",
       "      <td>0.138</td>\n",
       "      <td>0.155</td>\n",
       "      <td>0.176</td>\n",
       "      <td>0.003</td>\n",
       "      <td>0.005</td>\n",
       "      <td>Date : 02 JUNE 2025</td>\n",
       "      <td>Synergy HT Serial#204811</td>\n",
       "      <td>VWF:AG</td>\n",
       "    </tr>\n",
       "    <tr>\n",
       "      <th>9</th>\n",
       "      <td>0.073</td>\n",
       "      <td>0.072</td>\n",
       "      <td>0.219</td>\n",
       "      <td>0.218</td>\n",
       "      <td>0.144</td>\n",
       "      <td>0.131</td>\n",
       "      <td>0.072</td>\n",
       "      <td>0.069</td>\n",
       "      <td>0.087</td>\n",
       "      <td>0.089</td>\n",
       "      <td>0.003</td>\n",
       "      <td>0.004</td>\n",
       "      <td>Date : 02 JUNE 2025</td>\n",
       "      <td>Synergy HT Serial#204811</td>\n",
       "      <td>VWF:AG</td>\n",
       "    </tr>\n",
       "    <tr>\n",
       "      <th>10</th>\n",
       "      <td>0.050</td>\n",
       "      <td>0.040</td>\n",
       "      <td>0.316</td>\n",
       "      <td>0.323</td>\n",
       "      <td>0.391</td>\n",
       "      <td>0.364</td>\n",
       "      <td>0.114</td>\n",
       "      <td>0.092</td>\n",
       "      <td>0.003</td>\n",
       "      <td>0.004</td>\n",
       "      <td>0.005</td>\n",
       "      <td>0.003</td>\n",
       "      <td>Date : 02 JUNE 2025</td>\n",
       "      <td>Synergy HT Serial#204811</td>\n",
       "      <td>VWF:AG</td>\n",
       "    </tr>\n",
       "    <tr>\n",
       "      <th>11</th>\n",
       "      <td>0.014</td>\n",
       "      <td>0.013</td>\n",
       "      <td>0.272</td>\n",
       "      <td>0.263</td>\n",
       "      <td>0.276</td>\n",
       "      <td>0.288</td>\n",
       "      <td>0.049</td>\n",
       "      <td>0.050</td>\n",
       "      <td>0.003</td>\n",
       "      <td>0.003</td>\n",
       "      <td>0.004</td>\n",
       "      <td>0.012</td>\n",
       "      <td>Date : 02 JUNE 2025</td>\n",
       "      <td>Synergy HT Serial#204811</td>\n",
       "      <td>VWF:AG</td>\n",
       "    </tr>\n",
       "    <tr>\n",
       "      <th>25</th>\n",
       "      <td>1.449</td>\n",
       "      <td>1.535</td>\n",
       "      <td>1.070</td>\n",
       "      <td>1.116</td>\n",
       "      <td>1.101</td>\n",
       "      <td>1.138</td>\n",
       "      <td>1.185</td>\n",
       "      <td>1.339</td>\n",
       "      <td>0.718</td>\n",
       "      <td>0.830</td>\n",
       "      <td>0.021</td>\n",
       "      <td>0.021</td>\n",
       "      <td>Date : 02 JUNE 2025</td>\n",
       "      <td>Synergy HT Serial#204811</td>\n",
       "      <td>VWF:CB 01 JUNE 2025</td>\n",
       "    </tr>\n",
       "    <tr>\n",
       "      <th>26</th>\n",
       "      <td>1.522</td>\n",
       "      <td>1.391</td>\n",
       "      <td>0.735</td>\n",
       "      <td>0.838</td>\n",
       "      <td>0.805</td>\n",
       "      <td>0.833</td>\n",
       "      <td>0.931</td>\n",
       "      <td>0.879</td>\n",
       "      <td>0.419</td>\n",
       "      <td>0.478</td>\n",
       "      <td>0.019</td>\n",
       "      <td>0.018</td>\n",
       "      <td>Date : 02 JUNE 2025</td>\n",
       "      <td>Synergy HT Serial#204811</td>\n",
       "      <td>VWF:CB 01 JUNE 2025</td>\n",
       "    </tr>\n",
       "    <tr>\n",
       "      <th>27</th>\n",
       "      <td>1.241</td>\n",
       "      <td>1.188</td>\n",
       "      <td>0.674</td>\n",
       "      <td>0.750</td>\n",
       "      <td>0.592</td>\n",
       "      <td>0.619</td>\n",
       "      <td>0.938</td>\n",
       "      <td>0.868</td>\n",
       "      <td>0.868</td>\n",
       "      <td>0.799</td>\n",
       "      <td>0.020</td>\n",
       "      <td>0.019</td>\n",
       "      <td>Date : 02 JUNE 2025</td>\n",
       "      <td>Synergy HT Serial#204811</td>\n",
       "      <td>VWF:CB 01 JUNE 2025</td>\n",
       "    </tr>\n",
       "    <tr>\n",
       "      <th>28</th>\n",
       "      <td>0.847</td>\n",
       "      <td>0.818</td>\n",
       "      <td>0.477</td>\n",
       "      <td>0.478</td>\n",
       "      <td>0.365</td>\n",
       "      <td>0.383</td>\n",
       "      <td>0.602</td>\n",
       "      <td>0.592</td>\n",
       "      <td>0.547</td>\n",
       "      <td>0.558</td>\n",
       "      <td>0.017</td>\n",
       "      <td>0.020</td>\n",
       "      <td>Date : 02 JUNE 2025</td>\n",
       "      <td>Synergy HT Serial#204811</td>\n",
       "      <td>VWF:CB 01 JUNE 2025</td>\n",
       "    </tr>\n",
       "    <tr>\n",
       "      <th>29</th>\n",
       "      <td>0.613</td>\n",
       "      <td>0.549</td>\n",
       "      <td>0.862</td>\n",
       "      <td>0.764</td>\n",
       "      <td>0.509</td>\n",
       "      <td>0.547</td>\n",
       "      <td>0.389</td>\n",
       "      <td>0.339</td>\n",
       "      <td>0.455</td>\n",
       "      <td>0.387</td>\n",
       "      <td>0.018</td>\n",
       "      <td>0.020</td>\n",
       "      <td>Date : 02 JUNE 2025</td>\n",
       "      <td>Synergy HT Serial#204811</td>\n",
       "      <td>VWF:CB 01 JUNE 2025</td>\n",
       "    </tr>\n",
       "    <tr>\n",
       "      <th>30</th>\n",
       "      <td>0.363</td>\n",
       "      <td>0.366</td>\n",
       "      <td>0.536</td>\n",
       "      <td>0.556</td>\n",
       "      <td>0.315</td>\n",
       "      <td>0.336</td>\n",
       "      <td>0.199</td>\n",
       "      <td>0.204</td>\n",
       "      <td>0.224</td>\n",
       "      <td>0.231</td>\n",
       "      <td>0.019</td>\n",
       "      <td>0.030</td>\n",
       "      <td>Date : 02 JUNE 2025</td>\n",
       "      <td>Synergy HT Serial#204811</td>\n",
       "      <td>VWF:CB 01 JUNE 2025</td>\n",
       "    </tr>\n",
       "    <tr>\n",
       "      <th>31</th>\n",
       "      <td>0.246</td>\n",
       "      <td>0.210</td>\n",
       "      <td>0.398</td>\n",
       "      <td>0.441</td>\n",
       "      <td>1.008</td>\n",
       "      <td>1.022</td>\n",
       "      <td>0.268</td>\n",
       "      <td>0.276</td>\n",
       "      <td>0.021</td>\n",
       "      <td>0.021</td>\n",
       "      <td>0.024</td>\n",
       "      <td>0.024</td>\n",
       "      <td>Date : 02 JUNE 2025</td>\n",
       "      <td>Synergy HT Serial#204811</td>\n",
       "      <td>VWF:CB 01 JUNE 2025</td>\n",
       "    </tr>\n",
       "    <tr>\n",
       "      <th>32</th>\n",
       "      <td>0.045</td>\n",
       "      <td>0.037</td>\n",
       "      <td>0.304</td>\n",
       "      <td>0.309</td>\n",
       "      <td>0.733</td>\n",
       "      <td>0.772</td>\n",
       "      <td>0.147</td>\n",
       "      <td>0.168</td>\n",
       "      <td>0.045</td>\n",
       "      <td>0.046</td>\n",
       "      <td>0.045</td>\n",
       "      <td>0.030</td>\n",
       "      <td>Date : 02 JUNE 2025</td>\n",
       "      <td>Synergy HT Serial#204811</td>\n",
       "      <td>VWF:CB 01 JUNE 2025</td>\n",
       "    </tr>\n",
       "  </tbody>\n",
       "</table>\n",
       "</div>"
      ],
      "text/plain": [
       "        1      2      3      4      5      6      7      8      9     10  \\\n",
       "4   0.554  0.552  0.491  0.483  0.471  0.576  0.505  0.493  0.331  0.312   \n",
       "5   0.447  0.444  0.328  0.344  0.338  0.355  0.361  0.341  0.184  0.186   \n",
       "6   0.325  0.327  0.364  0.364  0.214  0.245  0.348  0.359  0.305  0.356   \n",
       "7   0.217  0.209  0.235  0.216  0.138  0.141  0.210  0.209  0.217  0.212   \n",
       "8   0.145  0.128  0.360  0.333  0.220  0.216  0.142  0.138  0.155  0.176   \n",
       "9   0.073  0.072  0.219  0.218  0.144  0.131  0.072  0.069  0.087  0.089   \n",
       "10  0.050  0.040  0.316  0.323  0.391  0.364  0.114  0.092  0.003  0.004   \n",
       "11  0.014  0.013  0.272  0.263  0.276  0.288  0.049  0.050  0.003  0.003   \n",
       "25  1.449  1.535  1.070  1.116  1.101  1.138  1.185  1.339  0.718  0.830   \n",
       "26  1.522  1.391  0.735  0.838  0.805  0.833  0.931  0.879  0.419  0.478   \n",
       "27  1.241  1.188  0.674  0.750  0.592  0.619  0.938  0.868  0.868  0.799   \n",
       "28  0.847  0.818  0.477  0.478  0.365  0.383  0.602  0.592  0.547  0.558   \n",
       "29  0.613  0.549  0.862  0.764  0.509  0.547  0.389  0.339  0.455  0.387   \n",
       "30  0.363  0.366  0.536  0.556  0.315  0.336  0.199  0.204  0.224  0.231   \n",
       "31  0.246  0.210  0.398  0.441  1.008  1.022  0.268  0.276  0.021  0.021   \n",
       "32  0.045  0.037  0.304  0.309  0.733  0.772  0.147  0.168  0.045  0.046   \n",
       "\n",
       "       11     12         analysis_name               serial_name  \\\n",
       "4   0.011  0.010   Date : 02 JUNE 2025  Synergy HT Serial#204811   \n",
       "5   0.002  0.003   Date : 02 JUNE 2025  Synergy HT Serial#204811   \n",
       "6   0.004  0.004   Date : 02 JUNE 2025  Synergy HT Serial#204811   \n",
       "7   0.003  0.004   Date : 02 JUNE 2025  Synergy HT Serial#204811   \n",
       "8   0.003  0.005   Date : 02 JUNE 2025  Synergy HT Serial#204811   \n",
       "9   0.003  0.004   Date : 02 JUNE 2025  Synergy HT Serial#204811   \n",
       "10  0.005  0.003   Date : 02 JUNE 2025  Synergy HT Serial#204811   \n",
       "11  0.004  0.012   Date : 02 JUNE 2025  Synergy HT Serial#204811   \n",
       "25  0.021  0.021   Date : 02 JUNE 2025  Synergy HT Serial#204811   \n",
       "26  0.019  0.018   Date : 02 JUNE 2025  Synergy HT Serial#204811   \n",
       "27  0.020  0.019   Date : 02 JUNE 2025  Synergy HT Serial#204811   \n",
       "28  0.017  0.020   Date : 02 JUNE 2025  Synergy HT Serial#204811   \n",
       "29  0.018  0.020   Date : 02 JUNE 2025  Synergy HT Serial#204811   \n",
       "30  0.019  0.030   Date : 02 JUNE 2025  Synergy HT Serial#204811   \n",
       "31  0.024  0.024   Date : 02 JUNE 2025  Synergy HT Serial#204811   \n",
       "32  0.045  0.030   Date : 02 JUNE 2025  Synergy HT Serial#204811   \n",
       "\n",
       "                  assay  \n",
       "4               VWF:AG   \n",
       "5               VWF:AG   \n",
       "6               VWF:AG   \n",
       "7               VWF:AG   \n",
       "8               VWF:AG   \n",
       "9               VWF:AG   \n",
       "10              VWF:AG   \n",
       "11              VWF:AG   \n",
       "25  VWF:CB 01 JUNE 2025  \n",
       "26  VWF:CB 01 JUNE 2025  \n",
       "27  VWF:CB 01 JUNE 2025  \n",
       "28  VWF:CB 01 JUNE 2025  \n",
       "29  VWF:CB 01 JUNE 2025  \n",
       "30  VWF:CB 01 JUNE 2025  \n",
       "31  VWF:CB 01 JUNE 2025  \n",
       "32  VWF:CB 01 JUNE 2025  "
      ]
     },
     "execution_count": 5,
     "metadata": {},
     "output_type": "execute_result"
    }
   ],
   "source": [
    "def read_data_to_dataframe(input_file):\n",
    "    '''\n",
    "    Takes the path to an input file\n",
    "    returns a dataframe\n",
    "    '''\n",
    "    data = pd.DataFrame()\n",
    "    config = get_template_from_config()\n",
    "\n",
    "    excel_to_csv = pd.read_excel(input_file, header=None)\n",
    "    #excel_to_csv.to_csv(\"work_dir/data.csv\", index=False)\n",
    "\n",
    "    analysis_name = excel_to_csv.iloc[config['analysis_name_pos']['row']-1, \n",
    "                                    config['analysis_name_pos']['col']-1\n",
    "                                    ]\n",
    "    serial_name = excel_to_csv.iloc[config['serial_name_pos']['row']-1, \n",
    "                                    config['serial_name_pos']['col']-1\n",
    "                                    ]\n",
    "    data = pd.DataFrame()\n",
    "\n",
    "    for plate in config[\"plates\"]:\n",
    "        row = plate['pos']['row']\n",
    "        col = plate['pos']['col']\n",
    "        \n",
    "        tmpDf = pd.DataFrame(excel_to_csv.iloc[row-1:row+7, col:col+12])\n",
    "        tmpDf['analysis_name'] = analysis_name\n",
    "        tmpDf['serial_name'] = serial_name\n",
    "        \n",
    "        target_name = excel_to_csv.iloc[\n",
    "            plate[\"assay_name_pos\"]['row']-1, \n",
    "            plate[\"assay_name_pos\"]['col']-1\n",
    "            ]\n",
    "        tmpDf['assay'] = target_name\n",
    "\n",
    "        data = pd.concat([data, tmpDf])\n",
    " \n",
    "    return data\n",
    "\n",
    "data = read_data_to_dataframe(\"../../Raw_data_from_Rethabile/VWF AG & CB 1 JUNE 2025.xlsx\")\n",
    "\n",
    "data"
   ]
  },
  {
   "cell_type": "code",
   "execution_count": 6,
   "id": "e7dd9e09",
   "metadata": {},
   "outputs": [],
   "source": [
    "def logistic_4_param(x, a, b, c, d):\n",
    "    return d + ( (a - d) / (1 + (x / c)**b) )\n",
    "\n",
    "\n",
    "def compute_4PL(y, a, b, c, d):\n",
    "    \"\"\"\n",
    "    x = c * ((a - d) / (y - d) - 1) ** (1 / b)\n",
    "    \"\"\"\n",
    "    if y == d:\n",
    "        raise ValueError(\"Division by zero: y must not be equal to d.\")\n",
    "    inner = (a - d) / (y - d) - 1\n",
    "    if inner < 0 and b % 2 == 0:\n",
    "        raise ValueError(\"Cannot compute even root of a negative number.\")\n",
    "    x = c * (inner) ** (1 / b)\n",
    "    return x"
   ]
  },
  {
   "cell_type": "code",
   "execution_count": 7,
   "id": "6ac6c899",
   "metadata": {},
   "outputs": [],
   "source": [
    "def compute_4PL_params():\n",
    "    unique_assays = data['assay'].unique()\n",
    "\n",
    "    p0 = [0, 1, 25, 1] # this may need work for the inititial predictions\n",
    "\n",
    "    param_results_dict = {}\n",
    "\n",
    "    for assay in unique_assays:\n",
    "        print(assay)\n",
    "        # create a datafram to make things easier, these value are then passed to a dictionary\n",
    "        standard_curve_data = data.query(\"assay == @assay\").iloc[:,0:2]\n",
    "        standard_curve_data['mean'] = standard_curve_data.mean(axis=1)\n",
    "        standard_curve_data['diffs_of_values'] = abs(standard_curve_data.iloc[:,0] - standard_curve_data.iloc[:,1]) \n",
    "        standard_curve_data['perc'] = make_ranges_for_std_curve(6)\n",
    "\n",
    "        callibrators = standard_curve_data[\"mean\"].values\n",
    "        perc = standard_curve_data[\"perc\"].values\n",
    "        diffs_of_values = standard_curve_data['diffs_of_values'].values\n",
    "        \n",
    "        popt, pcov = curve_fit(logistic_4_param, perc, callibrators, p0=p0)\n",
    "        \n",
    "        # Extract the fitted parameters\n",
    "        a_fit, b_fit, c_fit, d_fit = popt\n",
    "\n",
    "        # Generate the fitted curve\n",
    "        x_fit = np.linspace(min(perc), max(perc)*2, 10000)\n",
    "        y_fit = logistic_4_param(x_fit, a_fit, b_fit, c_fit, d_fit)\n",
    "\n",
    "        param_results_dict[assay] = {\"params\": popt, \n",
    "                            \"perc\": perc, \n",
    "                            \"callibrators\": callibrators,\n",
    "                            \"diffs_of_values\": diffs_of_values,\n",
    "                            \"x_fit\": x_fit, \n",
    "                            \"y_fit\": y_fit}\n",
    "        \n",
    "    return param_results_dict\n",
    "    "
   ]
  },
  {
   "cell_type": "code",
   "execution_count": 8,
   "id": "a80787c0",
   "metadata": {},
   "outputs": [
    {
     "name": "stdout",
     "output_type": "stream",
     "text": [
      "VWF:AG \n",
      "VWF:CB 01 JUNE 2025\n"
     ]
    },
    {
     "name": "stderr",
     "output_type": "stream",
     "text": [
      "/tmp/ipykernel_1701225/1338541779.py:2: RuntimeWarning: invalid value encountered in power\n",
      "  return d + ( (a - d) / (1 + (x / c)**b) )\n"
     ]
    },
    {
     "data": {
      "text/plain": [
       "{'VWF:AG ': {'params': array([1.17434199e-02, 9.84316756e-01, 3.23366459e+01, 7.30174910e-01]),\n",
       "  'perc': array([100.    ,  50.    ,  25.    ,  12.5   ,   6.25  ,   3.125 ,\n",
       "           1.5625,   0.    ]),\n",
       "  'callibrators': array([0.553 , 0.4455, 0.326 , 0.213 , 0.1365, 0.0725, 0.045 , 0.0135]),\n",
       "  'diffs_of_values': array([0.002, 0.003, 0.002, 0.008, 0.017, 0.001, 0.01 , 0.001]),\n",
       "  'x_fit': array([0.00000000e+00, 2.00020002e-02, 4.00040004e-02, ...,\n",
       "         1.99959996e+02, 1.99979998e+02, 2.00000000e+02], shape=(10000,)),\n",
       "  'y_fit': array([0.01174342, 0.01224206, 0.01272924, ..., 0.62768103, 0.62768969,\n",
       "         0.62769834], shape=(10000,))},\n",
       " 'VWF:CB 01 JUNE 2025': {'params': array([ 0.06179516,  1.14811061, 11.79821397,  1.66107843]),\n",
       "  'perc': array([100.    ,  50.    ,  25.    ,  12.5   ,   6.25  ,   3.125 ,\n",
       "           1.5625,   0.    ]),\n",
       "  'callibrators': array([1.492 , 1.4565, 1.2145, 0.8325, 0.581 , 0.3645, 0.228 , 0.041 ]),\n",
       "  'diffs_of_values': array([0.086, 0.131, 0.053, 0.029, 0.064, 0.003, 0.036, 0.008]),\n",
       "  'x_fit': array([0.00000000e+00, 2.00020002e-02, 4.00040004e-02, ...,\n",
       "         1.99959996e+02, 1.99979998e+02, 2.00000000e+02], shape=(10000,)),\n",
       "  'y_fit': array([0.06179516, 0.06284838, 0.06412748, ..., 1.60134464, 1.60135124,\n",
       "         1.60135785], shape=(10000,))}}"
      ]
     },
     "execution_count": 8,
     "metadata": {},
     "output_type": "execute_result"
    }
   ],
   "source": [
    "param_results_dict = compute_4PL_params()\n",
    "param_results_dict"
   ]
  },
  {
   "cell_type": "code",
   "execution_count": 19,
   "id": "ac9f6434",
   "metadata": {},
   "outputs": [
    {
     "data": {
      "application/vnd.plotly.v1+json": {
       "config": {
        "plotlyServerURL": "https://plot.ly"
       },
       "data": [
        {
         "error_y": {
          "array": {
           "bdata": "AKrx0k1iYD8Af2q8dJNoPwCq8dJNYmA/AKrx0k1igD+YxCCwcmiRPwCq8dJNYlA/fBSuR+F6hD8AqvHSTWJQPw==",
           "dtype": "f8"
          },
          "type": "data",
          "visible": true
         },
         "marker": {
          "color": "teal",
          "size": 10,
          "symbol": "circle"
         },
         "mode": "markers",
         "type": "scatter",
         "x": {
          "bdata": "AAAAAAAAWUAAAAAAAABJQAAAAAAAADlAAAAAAAAAKUAAAAAAAAAZQAAAAAAAAAlAAAAAAAAA+T8AAAAAAAAAAA==",
          "dtype": "f8"
         },
         "y": {
          "bdata": "GQRWDi2y4T9QjZduEoPcP3e+nxov3dQ/3SQGgZVDyz9GtvP91HjBP4/C9Shcj7I/CtejcD0Kpz/ZzvdT46WLPw==",
          "dtype": "f8"
         }
        },
        {
         "mode": "lines",
         "type": "scatter",
         "x": {
          "bdata": "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",
          "dtype": "f8"
         },
         "y": {
          "bdata": "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",
          "dtype": "f8"
         }
        }
       ],
       "layout": {
        "autosize": false,
        "height": 400,
        "margin": {
         "b": 10,
         "l": 50,
         "pad": 4,
         "r": 50,
         "t": 40
        },
        "template": {
         "data": {
          "bar": [
           {
            "error_x": {
             "color": "#2a3f5f"
            },
            "error_y": {
             "color": "#2a3f5f"
            },
            "marker": {
             "line": {
              "color": "#E5ECF6",
              "width": 0.5
             },
             "pattern": {
              "fillmode": "overlay",
              "size": 10,
              "solidity": 0.2
             }
            },
            "type": "bar"
           }
          ],
          "barpolar": [
           {
            "marker": {
             "line": {
              "color": "#E5ECF6",
              "width": 0.5
             },
             "pattern": {
              "fillmode": "overlay",
              "size": 10,
              "solidity": 0.2
             }
            },
            "type": "barpolar"
           }
          ],
          "carpet": [
           {
            "aaxis": {
             "endlinecolor": "#2a3f5f",
             "gridcolor": "white",
             "linecolor": "white",
             "minorgridcolor": "white",
             "startlinecolor": "#2a3f5f"
            },
            "baxis": {
             "endlinecolor": "#2a3f5f",
             "gridcolor": "white",
             "linecolor": "white",
             "minorgridcolor": "white",
             "startlinecolor": "#2a3f5f"
            },
            "type": "carpet"
           }
          ],
          "choropleth": [
           {
            "colorbar": {
             "outlinewidth": 0,
             "ticks": ""
            },
            "type": "choropleth"
           }
          ],
          "contour": [
           {
            "colorbar": {
             "outlinewidth": 0,
             "ticks": ""
            },
            "colorscale": [
             [
              0,
              "#0d0887"
             ],
             [
              0.1111111111111111,
              "#46039f"
             ],
             [
              0.2222222222222222,
              "#7201a8"
             ],
             [
              0.3333333333333333,
              "#9c179e"
             ],
             [
              0.4444444444444444,
              "#bd3786"
             ],
             [
              0.5555555555555556,
              "#d8576b"
             ],
             [
              0.6666666666666666,
              "#ed7953"
             ],
             [
              0.7777777777777778,
              "#fb9f3a"
             ],
             [
              0.8888888888888888,
              "#fdca26"
             ],
             [
              1,
              "#f0f921"
             ]
            ],
            "type": "contour"
           }
          ],
          "contourcarpet": [
           {
            "colorbar": {
             "outlinewidth": 0,
             "ticks": ""
            },
            "type": "contourcarpet"
           }
          ],
          "heatmap": [
           {
            "colorbar": {
             "outlinewidth": 0,
             "ticks": ""
            },
            "colorscale": [
             [
              0,
              "#0d0887"
             ],
             [
              0.1111111111111111,
              "#46039f"
             ],
             [
              0.2222222222222222,
              "#7201a8"
             ],
             [
              0.3333333333333333,
              "#9c179e"
             ],
             [
              0.4444444444444444,
              "#bd3786"
             ],
             [
              0.5555555555555556,
              "#d8576b"
             ],
             [
              0.6666666666666666,
              "#ed7953"
             ],
             [
              0.7777777777777778,
              "#fb9f3a"
             ],
             [
              0.8888888888888888,
              "#fdca26"
             ],
             [
              1,
              "#f0f921"
             ]
            ],
            "type": "heatmap"
           }
          ],
          "histogram": [
           {
            "marker": {
             "pattern": {
              "fillmode": "overlay",
              "size": 10,
              "solidity": 0.2
             }
            },
            "type": "histogram"
           }
          ],
          "histogram2d": [
           {
            "colorbar": {
             "outlinewidth": 0,
             "ticks": ""
            },
            "colorscale": [
             [
              0,
              "#0d0887"
             ],
             [
              0.1111111111111111,
              "#46039f"
             ],
             [
              0.2222222222222222,
              "#7201a8"
             ],
             [
              0.3333333333333333,
              "#9c179e"
             ],
             [
              0.4444444444444444,
              "#bd3786"
             ],
             [
              0.5555555555555556,
              "#d8576b"
             ],
             [
              0.6666666666666666,
              "#ed7953"
             ],
             [
              0.7777777777777778,
              "#fb9f3a"
             ],
             [
              0.8888888888888888,
              "#fdca26"
             ],
             [
              1,
              "#f0f921"
             ]
            ],
            "type": "histogram2d"
           }
          ],
          "histogram2dcontour": [
           {
            "colorbar": {
             "outlinewidth": 0,
             "ticks": ""
            },
            "colorscale": [
             [
              0,
              "#0d0887"
             ],
             [
              0.1111111111111111,
              "#46039f"
             ],
             [
              0.2222222222222222,
              "#7201a8"
             ],
             [
              0.3333333333333333,
              "#9c179e"
             ],
             [
              0.4444444444444444,
              "#bd3786"
             ],
             [
              0.5555555555555556,
              "#d8576b"
             ],
             [
              0.6666666666666666,
              "#ed7953"
             ],
             [
              0.7777777777777778,
              "#fb9f3a"
             ],
             [
              0.8888888888888888,
              "#fdca26"
             ],
             [
              1,
              "#f0f921"
             ]
            ],
            "type": "histogram2dcontour"
           }
          ],
          "mesh3d": [
           {
            "colorbar": {
             "outlinewidth": 0,
             "ticks": ""
            },
            "type": "mesh3d"
           }
          ],
          "parcoords": [
           {
            "line": {
             "colorbar": {
              "outlinewidth": 0,
              "ticks": ""
             }
            },
            "type": "parcoords"
           }
          ],
          "pie": [
           {
            "automargin": true,
            "type": "pie"
           }
          ],
          "scatter": [
           {
            "fillpattern": {
             "fillmode": "overlay",
             "size": 10,
             "solidity": 0.2
            },
            "type": "scatter"
           }
          ],
          "scatter3d": [
           {
            "line": {
             "colorbar": {
              "outlinewidth": 0,
              "ticks": ""
             }
            },
            "marker": {
             "colorbar": {
              "outlinewidth": 0,
              "ticks": ""
             }
            },
            "type": "scatter3d"
           }
          ],
          "scattercarpet": [
           {
            "marker": {
             "colorbar": {
              "outlinewidth": 0,
              "ticks": ""
             }
            },
            "type": "scattercarpet"
           }
          ],
          "scattergeo": [
           {
            "marker": {
             "colorbar": {
              "outlinewidth": 0,
              "ticks": ""
             }
            },
            "type": "scattergeo"
           }
          ],
          "scattergl": [
           {
            "marker": {
             "colorbar": {
              "outlinewidth": 0,
              "ticks": ""
             }
            },
            "type": "scattergl"
           }
          ],
          "scattermap": [
           {
            "marker": {
             "colorbar": {
              "outlinewidth": 0,
              "ticks": ""
             }
            },
            "type": "scattermap"
           }
          ],
          "scattermapbox": [
           {
            "marker": {
             "colorbar": {
              "outlinewidth": 0,
              "ticks": ""
             }
            },
            "type": "scattermapbox"
           }
          ],
          "scatterpolar": [
           {
            "marker": {
             "colorbar": {
              "outlinewidth": 0,
              "ticks": ""
             }
            },
            "type": "scatterpolar"
           }
          ],
          "scatterpolargl": [
           {
            "marker": {
             "colorbar": {
              "outlinewidth": 0,
              "ticks": ""
             }
            },
            "type": "scatterpolargl"
           }
          ],
          "scatterternary": [
           {
            "marker": {
             "colorbar": {
              "outlinewidth": 0,
              "ticks": ""
             }
            },
            "type": "scatterternary"
           }
          ],
          "surface": [
           {
            "colorbar": {
             "outlinewidth": 0,
             "ticks": ""
            },
            "colorscale": [
             [
              0,
              "#0d0887"
             ],
             [
              0.1111111111111111,
              "#46039f"
             ],
             [
              0.2222222222222222,
              "#7201a8"
             ],
             [
              0.3333333333333333,
              "#9c179e"
             ],
             [
              0.4444444444444444,
              "#bd3786"
             ],
             [
              0.5555555555555556,
              "#d8576b"
             ],
             [
              0.6666666666666666,
              "#ed7953"
             ],
             [
              0.7777777777777778,
              "#fb9f3a"
             ],
             [
              0.8888888888888888,
              "#fdca26"
             ],
             [
              1,
              "#f0f921"
             ]
            ],
            "type": "surface"
           }
          ],
          "table": [
           {
            "cells": {
             "fill": {
              "color": "#EBF0F8"
             },
             "line": {
              "color": "white"
             }
            },
            "header": {
             "fill": {
              "color": "#C8D4E3"
             },
             "line": {
              "color": "white"
             }
            },
            "type": "table"
           }
          ]
         },
         "layout": {
          "annotationdefaults": {
           "arrowcolor": "#2a3f5f",
           "arrowhead": 0,
           "arrowwidth": 1
          },
          "autotypenumbers": "strict",
          "coloraxis": {
           "colorbar": {
            "outlinewidth": 0,
            "ticks": ""
           }
          },
          "colorscale": {
           "diverging": [
            [
             0,
             "#8e0152"
            ],
            [
             0.1,
             "#c51b7d"
            ],
            [
             0.2,
             "#de77ae"
            ],
            [
             0.3,
             "#f1b6da"
            ],
            [
             0.4,
             "#fde0ef"
            ],
            [
             0.5,
             "#f7f7f7"
            ],
            [
             0.6,
             "#e6f5d0"
            ],
            [
             0.7,
             "#b8e186"
            ],
            [
             0.8,
             "#7fbc41"
            ],
            [
             0.9,
             "#4d9221"
            ],
            [
             1,
             "#276419"
            ]
           ],
           "sequential": [
            [
             0,
             "#0d0887"
            ],
            [
             0.1111111111111111,
             "#46039f"
            ],
            [
             0.2222222222222222,
             "#7201a8"
            ],
            [
             0.3333333333333333,
             "#9c179e"
            ],
            [
             0.4444444444444444,
             "#bd3786"
            ],
            [
             0.5555555555555556,
             "#d8576b"
            ],
            [
             0.6666666666666666,
             "#ed7953"
            ],
            [
             0.7777777777777778,
             "#fb9f3a"
            ],
            [
             0.8888888888888888,
             "#fdca26"
            ],
            [
             1,
             "#f0f921"
            ]
           ],
           "sequentialminus": [
            [
             0,
             "#0d0887"
            ],
            [
             0.1111111111111111,
             "#46039f"
            ],
            [
             0.2222222222222222,
             "#7201a8"
            ],
            [
             0.3333333333333333,
             "#9c179e"
            ],
            [
             0.4444444444444444,
             "#bd3786"
            ],
            [
             0.5555555555555556,
             "#d8576b"
            ],
            [
             0.6666666666666666,
             "#ed7953"
            ],
            [
             0.7777777777777778,
             "#fb9f3a"
            ],
            [
             0.8888888888888888,
             "#fdca26"
            ],
            [
             1,
             "#f0f921"
            ]
           ]
          },
          "colorway": [
           "#636efa",
           "#EF553B",
           "#00cc96",
           "#ab63fa",
           "#FFA15A",
           "#19d3f3",
           "#FF6692",
           "#B6E880",
           "#FF97FF",
           "#FECB52"
          ],
          "font": {
           "color": "#2a3f5f"
          },
          "geo": {
           "bgcolor": "white",
           "lakecolor": "white",
           "landcolor": "#E5ECF6",
           "showlakes": true,
           "showland": true,
           "subunitcolor": "white"
          },
          "hoverlabel": {
           "align": "left"
          },
          "hovermode": "closest",
          "mapbox": {
           "style": "light"
          },
          "paper_bgcolor": "white",
          "plot_bgcolor": "#E5ECF6",
          "polar": {
           "angularaxis": {
            "gridcolor": "white",
            "linecolor": "white",
            "ticks": ""
           },
           "bgcolor": "#E5ECF6",
           "radialaxis": {
            "gridcolor": "white",
            "linecolor": "white",
            "ticks": ""
           }
          },
          "scene": {
           "xaxis": {
            "backgroundcolor": "#E5ECF6",
            "gridcolor": "white",
            "gridwidth": 2,
            "linecolor": "white",
            "showbackground": true,
            "ticks": "",
            "zerolinecolor": "white"
           },
           "yaxis": {
            "backgroundcolor": "#E5ECF6",
            "gridcolor": "white",
            "gridwidth": 2,
            "linecolor": "white",
            "showbackground": true,
            "ticks": "",
            "zerolinecolor": "white"
           },
           "zaxis": {
            "backgroundcolor": "#E5ECF6",
            "gridcolor": "white",
            "gridwidth": 2,
            "linecolor": "white",
            "showbackground": true,
            "ticks": "",
            "zerolinecolor": "white"
           }
          },
          "shapedefaults": {
           "line": {
            "color": "#2a3f5f"
           }
          },
          "ternary": {
           "aaxis": {
            "gridcolor": "white",
            "linecolor": "white",
            "ticks": ""
           },
           "baxis": {
            "gridcolor": "white",
            "linecolor": "white",
            "ticks": ""
           },
           "bgcolor": "#E5ECF6",
           "caxis": {
            "gridcolor": "white",
            "linecolor": "white",
            "ticks": ""
           }
          },
          "title": {
           "x": 0.05
          },
          "xaxis": {
           "automargin": true,
           "gridcolor": "white",
           "linecolor": "white",
           "ticks": "",
           "title": {
            "standoff": 15
           },
           "zerolinecolor": "white",
           "zerolinewidth": 2
          },
          "yaxis": {
           "automargin": true,
           "gridcolor": "white",
           "linecolor": "white",
           "ticks": "",
           "title": {
            "standoff": 15
           },
           "zerolinecolor": "white",
           "zerolinewidth": 2
          }
         }
        },
        "title": {
         "font": {
          "size": 20
         },
         "text": "VWF:AG "
        },
        "width": 600,
        "xaxis": {
         "title": {
          "text": "Percentage"
         }
        },
        "yaxis": {
         "title": {
          "text": "Absorbance"
         }
        }
       }
      }
     },
     "metadata": {},
     "output_type": "display_data"
    },
    {
     "data": {
      "application/vnd.plotly.v1+json": {
       "config": {
        "plotlyServerURL": "https://plot.ly"
       },
       "data": [
        {
         "error_y": {
          "array": {
           "bdata": "YLx0kxgEtj/4U+Olm8TAP6BBYOXQIqs/IARWDi2ynT/4qfHSTWKwPwB/arx0k2g/PN9PjZduoj/8qfHSTWKAPw==",
           "dtype": "f8"
          },
          "type": "data",
          "visible": true
         },
         "marker": {
          "color": "teal",
          "size": 10,
          "symbol": "circle"
         },
         "mode": "markers",
         "type": "scatter",
         "x": {
          "bdata": "AAAAAAAAWUAAAAAAAABJQAAAAAAAADlAAAAAAAAAKUAAAAAAAAAZQAAAAAAAAAlAAAAAAAAA+T8AAAAAAAAAAA==",
          "dtype": "f8"
         },
         "y": {
          "bdata": "rBxaZDvf9z/o+6nx0k33PzzfT42XbvM/pHA9Ctej6j9kO99PjZfiP4cW2c73U9c/yHa+nxovzT/KoUW28/2kPw==",
          "dtype": "f8"
         }
        },
        {
         "mode": "lines",
         "type": "scatter",
         "x": {
          "bdata": "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",
          "dtype": "f8"
         },
         "y": {
          "bdata": "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",
          "dtype": "f8"
         }
        }
       ],
       "layout": {
        "autosize": false,
        "height": 400,
        "margin": {
         "b": 10,
         "l": 50,
         "pad": 4,
         "r": 50,
         "t": 40
        },
        "template": {
         "data": {
          "bar": [
           {
            "error_x": {
             "color": "#2a3f5f"
            },
            "error_y": {
             "color": "#2a3f5f"
            },
            "marker": {
             "line": {
              "color": "#E5ECF6",
              "width": 0.5
             },
             "pattern": {
              "fillmode": "overlay",
              "size": 10,
              "solidity": 0.2
             }
            },
            "type": "bar"
           }
          ],
          "barpolar": [
           {
            "marker": {
             "line": {
              "color": "#E5ECF6",
              "width": 0.5
             },
             "pattern": {
              "fillmode": "overlay",
              "size": 10,
              "solidity": 0.2
             }
            },
            "type": "barpolar"
           }
          ],
          "carpet": [
           {
            "aaxis": {
             "endlinecolor": "#2a3f5f",
             "gridcolor": "white",
             "linecolor": "white",
             "minorgridcolor": "white",
             "startlinecolor": "#2a3f5f"
            },
            "baxis": {
             "endlinecolor": "#2a3f5f",
             "gridcolor": "white",
             "linecolor": "white",
             "minorgridcolor": "white",
             "startlinecolor": "#2a3f5f"
            },
            "type": "carpet"
           }
          ],
          "choropleth": [
           {
            "colorbar": {
             "outlinewidth": 0,
             "ticks": ""
            },
            "type": "choropleth"
           }
          ],
          "contour": [
           {
            "colorbar": {
             "outlinewidth": 0,
             "ticks": ""
            },
            "colorscale": [
             [
              0,
              "#0d0887"
             ],
             [
              0.1111111111111111,
              "#46039f"
             ],
             [
              0.2222222222222222,
              "#7201a8"
             ],
             [
              0.3333333333333333,
              "#9c179e"
             ],
             [
              0.4444444444444444,
              "#bd3786"
             ],
             [
              0.5555555555555556,
              "#d8576b"
             ],
             [
              0.6666666666666666,
              "#ed7953"
             ],
             [
              0.7777777777777778,
              "#fb9f3a"
             ],
             [
              0.8888888888888888,
              "#fdca26"
             ],
             [
              1,
              "#f0f921"
             ]
            ],
            "type": "contour"
           }
          ],
          "contourcarpet": [
           {
            "colorbar": {
             "outlinewidth": 0,
             "ticks": ""
            },
            "type": "contourcarpet"
           }
          ],
          "heatmap": [
           {
            "colorbar": {
             "outlinewidth": 0,
             "ticks": ""
            },
            "colorscale": [
             [
              0,
              "#0d0887"
             ],
             [
              0.1111111111111111,
              "#46039f"
             ],
             [
              0.2222222222222222,
              "#7201a8"
             ],
             [
              0.3333333333333333,
              "#9c179e"
             ],
             [
              0.4444444444444444,
              "#bd3786"
             ],
             [
              0.5555555555555556,
              "#d8576b"
             ],
             [
              0.6666666666666666,
              "#ed7953"
             ],
             [
              0.7777777777777778,
              "#fb9f3a"
             ],
             [
              0.8888888888888888,
              "#fdca26"
             ],
             [
              1,
              "#f0f921"
             ]
            ],
            "type": "heatmap"
           }
          ],
          "histogram": [
           {
            "marker": {
             "pattern": {
              "fillmode": "overlay",
              "size": 10,
              "solidity": 0.2
             }
            },
            "type": "histogram"
           }
          ],
          "histogram2d": [
           {
            "colorbar": {
             "outlinewidth": 0,
             "ticks": ""
            },
            "colorscale": [
             [
              0,
              "#0d0887"
             ],
             [
              0.1111111111111111,
              "#46039f"
             ],
             [
              0.2222222222222222,
              "#7201a8"
             ],
             [
              0.3333333333333333,
              "#9c179e"
             ],
             [
              0.4444444444444444,
              "#bd3786"
             ],
             [
              0.5555555555555556,
              "#d8576b"
             ],
             [
              0.6666666666666666,
              "#ed7953"
             ],
             [
              0.7777777777777778,
              "#fb9f3a"
             ],
             [
              0.8888888888888888,
              "#fdca26"
             ],
             [
              1,
              "#f0f921"
             ]
            ],
            "type": "histogram2d"
           }
          ],
          "histogram2dcontour": [
           {
            "colorbar": {
             "outlinewidth": 0,
             "ticks": ""
            },
            "colorscale": [
             [
              0,
              "#0d0887"
             ],
             [
              0.1111111111111111,
              "#46039f"
             ],
             [
              0.2222222222222222,
              "#7201a8"
             ],
             [
              0.3333333333333333,
              "#9c179e"
             ],
             [
              0.4444444444444444,
              "#bd3786"
             ],
             [
              0.5555555555555556,
              "#d8576b"
             ],
             [
              0.6666666666666666,
              "#ed7953"
             ],
             [
              0.7777777777777778,
              "#fb9f3a"
             ],
             [
              0.8888888888888888,
              "#fdca26"
             ],
             [
              1,
              "#f0f921"
             ]
            ],
            "type": "histogram2dcontour"
           }
          ],
          "mesh3d": [
           {
            "colorbar": {
             "outlinewidth": 0,
             "ticks": ""
            },
            "type": "mesh3d"
           }
          ],
          "parcoords": [
           {
            "line": {
             "colorbar": {
              "outlinewidth": 0,
              "ticks": ""
             }
            },
            "type": "parcoords"
           }
          ],
          "pie": [
           {
            "automargin": true,
            "type": "pie"
           }
          ],
          "scatter": [
           {
            "fillpattern": {
             "fillmode": "overlay",
             "size": 10,
             "solidity": 0.2
            },
            "type": "scatter"
           }
          ],
          "scatter3d": [
           {
            "line": {
             "colorbar": {
              "outlinewidth": 0,
              "ticks": ""
             }
            },
            "marker": {
             "colorbar": {
              "outlinewidth": 0,
              "ticks": ""
             }
            },
            "type": "scatter3d"
           }
          ],
          "scattercarpet": [
           {
            "marker": {
             "colorbar": {
              "outlinewidth": 0,
              "ticks": ""
             }
            },
            "type": "scattercarpet"
           }
          ],
          "scattergeo": [
           {
            "marker": {
             "colorbar": {
              "outlinewidth": 0,
              "ticks": ""
             }
            },
            "type": "scattergeo"
           }
          ],
          "scattergl": [
           {
            "marker": {
             "colorbar": {
              "outlinewidth": 0,
              "ticks": ""
             }
            },
            "type": "scattergl"
           }
          ],
          "scattermap": [
           {
            "marker": {
             "colorbar": {
              "outlinewidth": 0,
              "ticks": ""
             }
            },
            "type": "scattermap"
           }
          ],
          "scattermapbox": [
           {
            "marker": {
             "colorbar": {
              "outlinewidth": 0,
              "ticks": ""
             }
            },
            "type": "scattermapbox"
           }
          ],
          "scatterpolar": [
           {
            "marker": {
             "colorbar": {
              "outlinewidth": 0,
              "ticks": ""
             }
            },
            "type": "scatterpolar"
           }
          ],
          "scatterpolargl": [
           {
            "marker": {
             "colorbar": {
              "outlinewidth": 0,
              "ticks": ""
             }
            },
            "type": "scatterpolargl"
           }
          ],
          "scatterternary": [
           {
            "marker": {
             "colorbar": {
              "outlinewidth": 0,
              "ticks": ""
             }
            },
            "type": "scatterternary"
           }
          ],
          "surface": [
           {
            "colorbar": {
             "outlinewidth": 0,
             "ticks": ""
            },
            "colorscale": [
             [
              0,
              "#0d0887"
             ],
             [
              0.1111111111111111,
              "#46039f"
             ],
             [
              0.2222222222222222,
              "#7201a8"
             ],
             [
              0.3333333333333333,
              "#9c179e"
             ],
             [
              0.4444444444444444,
              "#bd3786"
             ],
             [
              0.5555555555555556,
              "#d8576b"
             ],
             [
              0.6666666666666666,
              "#ed7953"
             ],
             [
              0.7777777777777778,
              "#fb9f3a"
             ],
             [
              0.8888888888888888,
              "#fdca26"
             ],
             [
              1,
              "#f0f921"
             ]
            ],
            "type": "surface"
           }
          ],
          "table": [
           {
            "cells": {
             "fill": {
              "color": "#EBF0F8"
             },
             "line": {
              "color": "white"
             }
            },
            "header": {
             "fill": {
              "color": "#C8D4E3"
             },
             "line": {
              "color": "white"
             }
            },
            "type": "table"
           }
          ]
         },
         "layout": {
          "annotationdefaults": {
           "arrowcolor": "#2a3f5f",
           "arrowhead": 0,
           "arrowwidth": 1
          },
          "autotypenumbers": "strict",
          "coloraxis": {
           "colorbar": {
            "outlinewidth": 0,
            "ticks": ""
           }
          },
          "colorscale": {
           "diverging": [
            [
             0,
             "#8e0152"
            ],
            [
             0.1,
             "#c51b7d"
            ],
            [
             0.2,
             "#de77ae"
            ],
            [
             0.3,
             "#f1b6da"
            ],
            [
             0.4,
             "#fde0ef"
            ],
            [
             0.5,
             "#f7f7f7"
            ],
            [
             0.6,
             "#e6f5d0"
            ],
            [
             0.7,
             "#b8e186"
            ],
            [
             0.8,
             "#7fbc41"
            ],
            [
             0.9,
             "#4d9221"
            ],
            [
             1,
             "#276419"
            ]
           ],
           "sequential": [
            [
             0,
             "#0d0887"
            ],
            [
             0.1111111111111111,
             "#46039f"
            ],
            [
             0.2222222222222222,
             "#7201a8"
            ],
            [
             0.3333333333333333,
             "#9c179e"
            ],
            [
             0.4444444444444444,
             "#bd3786"
            ],
            [
             0.5555555555555556,
             "#d8576b"
            ],
            [
             0.6666666666666666,
             "#ed7953"
            ],
            [
             0.7777777777777778,
             "#fb9f3a"
            ],
            [
             0.8888888888888888,
             "#fdca26"
            ],
            [
             1,
             "#f0f921"
            ]
           ],
           "sequentialminus": [
            [
             0,
             "#0d0887"
            ],
            [
             0.1111111111111111,
             "#46039f"
            ],
            [
             0.2222222222222222,
             "#7201a8"
            ],
            [
             0.3333333333333333,
             "#9c179e"
            ],
            [
             0.4444444444444444,
             "#bd3786"
            ],
            [
             0.5555555555555556,
             "#d8576b"
            ],
            [
             0.6666666666666666,
             "#ed7953"
            ],
            [
             0.7777777777777778,
             "#fb9f3a"
            ],
            [
             0.8888888888888888,
             "#fdca26"
            ],
            [
             1,
             "#f0f921"
            ]
           ]
          },
          "colorway": [
           "#636efa",
           "#EF553B",
           "#00cc96",
           "#ab63fa",
           "#FFA15A",
           "#19d3f3",
           "#FF6692",
           "#B6E880",
           "#FF97FF",
           "#FECB52"
          ],
          "font": {
           "color": "#2a3f5f"
          },
          "geo": {
           "bgcolor": "white",
           "lakecolor": "white",
           "landcolor": "#E5ECF6",
           "showlakes": true,
           "showland": true,
           "subunitcolor": "white"
          },
          "hoverlabel": {
           "align": "left"
          },
          "hovermode": "closest",
          "mapbox": {
           "style": "light"
          },
          "paper_bgcolor": "white",
          "plot_bgcolor": "#E5ECF6",
          "polar": {
           "angularaxis": {
            "gridcolor": "white",
            "linecolor": "white",
            "ticks": ""
           },
           "bgcolor": "#E5ECF6",
           "radialaxis": {
            "gridcolor": "white",
            "linecolor": "white",
            "ticks": ""
           }
          },
          "scene": {
           "xaxis": {
            "backgroundcolor": "#E5ECF6",
            "gridcolor": "white",
            "gridwidth": 2,
            "linecolor": "white",
            "showbackground": true,
            "ticks": "",
            "zerolinecolor": "white"
           },
           "yaxis": {
            "backgroundcolor": "#E5ECF6",
            "gridcolor": "white",
            "gridwidth": 2,
            "linecolor": "white",
            "showbackground": true,
            "ticks": "",
            "zerolinecolor": "white"
           },
           "zaxis": {
            "backgroundcolor": "#E5ECF6",
            "gridcolor": "white",
            "gridwidth": 2,
            "linecolor": "white",
            "showbackground": true,
            "ticks": "",
            "zerolinecolor": "white"
           }
          },
          "shapedefaults": {
           "line": {
            "color": "#2a3f5f"
           }
          },
          "ternary": {
           "aaxis": {
            "gridcolor": "white",
            "linecolor": "white",
            "ticks": ""
           },
           "baxis": {
            "gridcolor": "white",
            "linecolor": "white",
            "ticks": ""
           },
           "bgcolor": "#E5ECF6",
           "caxis": {
            "gridcolor": "white",
            "linecolor": "white",
            "ticks": ""
           }
          },
          "title": {
           "x": 0.05
          },
          "xaxis": {
           "automargin": true,
           "gridcolor": "white",
           "linecolor": "white",
           "ticks": "",
           "title": {
            "standoff": 15
           },
           "zerolinecolor": "white",
           "zerolinewidth": 2
          },
          "yaxis": {
           "automargin": true,
           "gridcolor": "white",
           "linecolor": "white",
           "ticks": "",
           "title": {
            "standoff": 15
           },
           "zerolinecolor": "white",
           "zerolinewidth": 2
          }
         }
        },
        "title": {
         "font": {
          "size": 20
         },
         "text": "VWF:CB 01 JUNE 2025"
        },
        "width": 600,
        "xaxis": {
         "title": {
          "text": "Percentage"
         }
        },
        "yaxis": {
         "title": {
          "text": "Absorbance"
         }
        }
       }
      }
     },
     "metadata": {},
     "output_type": "display_data"
    }
   ],
   "source": [
    "for key in param_results_dict.keys():\n",
    "    fig = go.Figure()\n",
    "    # Add the points for the percentage calibrator and Absorbance\n",
    "    fig.add_trace(\n",
    "        go.Scatter(\n",
    "            x=param_results_dict[key][\"perc\"],\n",
    "            y=param_results_dict[key][\"callibrators\"],\n",
    "            error_y=dict(\n",
    "                type='data', \n",
    "                array=param_results_dict[key][\"diffs_of_values\"],\n",
    "                visible=True),\n",
    "            mode='markers',\n",
    "            marker=dict(\n",
    "            size=10,        \n",
    "            color='teal',   \n",
    "            symbol='circle' \n",
    "            )\n",
    "            )\n",
    "        ),\n",
    "    # Add a line plot for the fitted model\n",
    "    fig.add_trace(\n",
    "        go.Scatter(\n",
    "            x=param_results_dict[key][\"x_fit\"],\n",
    "            y=param_results_dict[key][\"y_fit\"],\n",
    "            mode='lines'\n",
    "        )\n",
    "        \n",
    "    )\n",
    "    # Update the figure size, margin and title\n",
    "    fig.update_layout(\n",
    "        autosize=False,\n",
    "        width=600,\n",
    "        height=400,\n",
    "        margin=dict(\n",
    "            l=50,\n",
    "            r=50,\n",
    "            b=10,\n",
    "            t=40,\n",
    "            pad=4\n",
    "            ),\n",
    "        title=dict(text=key, font=dict(size=20)),\n",
    "        xaxis=dict(title=dict(text=\"Percentage\")),\n",
    "        yaxis=dict(title=dict(text=\"Absorbance\"))\n",
    "        \n",
    "        )\n",
    "    fig.show()"
   ]
  },
  {
   "cell_type": "code",
   "execution_count": null,
   "id": "71030fa9",
   "metadata": {},
   "outputs": [],
   "source": []
  },
  {
   "cell_type": "code",
   "execution_count": null,
   "id": "d9c006e4",
   "metadata": {},
   "outputs": [],
   "source": []
  },
  {
   "cell_type": "code",
   "execution_count": null,
   "id": "1c175506",
   "metadata": {},
   "outputs": [],
   "source": []
  },
  {
   "cell_type": "code",
   "execution_count": null,
   "id": "67fca8b9",
   "metadata": {},
   "outputs": [],
   "source": []
  },
  {
   "cell_type": "code",
   "execution_count": null,
   "id": "d0711197",
   "metadata": {},
   "outputs": [],
   "source": []
  },
  {
   "cell_type": "code",
   "execution_count": null,
   "id": "edf70af6",
   "metadata": {},
   "outputs": [],
   "source": []
  },
  {
   "cell_type": "code",
   "execution_count": null,
   "id": "05c6cabd",
   "metadata": {},
   "outputs": [],
   "source": []
  },
  {
   "cell_type": "code",
   "execution_count": null,
   "id": "8c59cc44",
   "metadata": {},
   "outputs": [],
   "source": []
  }
 ],
 "metadata": {
  "kernelspec": {
   "display_name": "haemostasis_elisa",
   "language": "python",
   "name": "python3"
  },
  "language_info": {
   "codemirror_mode": {
    "name": "ipython",
    "version": 3
   },
   "file_extension": ".py",
   "mimetype": "text/x-python",
   "name": "python",
   "nbconvert_exporter": "python",
   "pygments_lexer": "ipython3",
   "version": "3.13.5"
  }
 },
 "nbformat": 4,
 "nbformat_minor": 5
}
